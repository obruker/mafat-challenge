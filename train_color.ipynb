{
 "cells": [
  {
   "cell_type": "code",
   "execution_count": 3,
   "metadata": {},
   "outputs": [],
   "source": [
    "from keras.models import Sequential\n",
    "from keras.layers import Dense, Activation\n",
    "from keras.applications import VGG16\n",
    "from keras.preprocessing.image import ImageDataGenerator, array_to_img, img_to_array, load_img\n",
    "import matplotlib.pyplot as plt"
   ]
  },
  {
   "cell_type": "code",
   "execution_count": 7,
   "metadata": {},
   "outputs": [
    {
     "name": "stdout",
     "output_type": "stream",
     "text": [
      "_________________________________________________________________\n",
      "Layer (type)                 Output Shape              Param #   \n",
      "=================================================================\n",
      "dense_7 (Dense)              (None, 50, 50, 128)       512       \n",
      "_________________________________________________________________\n",
      "flatten_3 (Flatten)          (None, 320000)            0         \n",
      "_________________________________________________________________\n",
      "dense_8 (Dense)              (None, 64)                20480064  \n",
      "_________________________________________________________________\n",
      "dense_9 (Dense)              (None, 8)                 520       \n",
      "=================================================================\n",
      "Total params: 20,481,096\n",
      "Trainable params: 20,481,096\n",
      "Non-trainable params: 0\n",
      "_________________________________________________________________\n"
     ]
    }
   ],
   "source": [
    "from keras import models\n",
    "from keras import layers\n",
    "from keras import optimizers\n",
    "\n",
    "image_size=50\n",
    "\n",
    "# Create the model\n",
    "model = models.Sequential()\n",
    "model.add(layers.Dense(128, activation='relu', input_shape=(image_size, image_size, 3)))\n",
    "model.add(layers.Flatten())\n",
    "model.add(layers.Dense(64, activation='relu'))\n",
    "# model.add(layers.Dropout(0.25))\n",
    "model.add(layers.Dense(8, activation='softmax')) \n",
    " \n",
    "# Check the trainable status of the individual layers\n",
    "# for layer in model.layers:\n",
    "#     print(layer, layer.trainable)\n",
    "\n",
    "# Show a summary of the model. Check the number of trainable parameters\n",
    "model.summary()"
   ]
  },
  {
   "cell_type": "code",
   "execution_count": 8,
   "metadata": {},
   "outputs": [
    {
     "name": "stdout",
     "output_type": "stream",
     "text": [
      "Found 9289 images belonging to 8 classes.\n",
      "Found 2323 images belonging to 8 classes.\n"
     ]
    }
   ],
   "source": [
    "segment = 'color'\n",
    "train_dir = 'output_color/{}/train'.format(segment)\n",
    "validation_dir = 'output_color/{}/validation'.format(segment)\n",
    "model_fname = 'fc_{}.h5'.format(segment)\n",
    "\n",
    "train_datagen = ImageDataGenerator(\n",
    "    rescale=1./255,\n",
    "    rotation_range=4,\n",
    "    width_shift_range=5,\n",
    "    height_shift_range=5,\n",
    "    shear_range=0.2,\n",
    "    zoom_range=0.1,\n",
    "    horizontal_flip=True,\n",
    "    vertical_flip=True,\n",
    "    fill_mode='nearest')\n",
    " \n",
    "validation_datagen = ImageDataGenerator(rescale=1./255)\n",
    " \n",
    "# Change the batchsize according to your system RAM\n",
    "train_batchsize = 100\n",
    "validation_batchsize = 10\n",
    " \n",
    "train_generator = train_datagen.flow_from_directory(\n",
    "        train_dir,\n",
    "        target_size=(image_size, image_size),\n",
    "        batch_size=train_batchsize,\n",
    "        class_mode='categorical')\n",
    " \n",
    "validation_generator = validation_datagen.flow_from_directory(\n",
    "        validation_dir,\n",
    "        target_size=(image_size, image_size),\n",
    "        batch_size=validation_batchsize,\n",
    "        class_mode='categorical',\n",
    "        shuffle=False)"
   ]
  },
  {
   "cell_type": "code",
   "execution_count": 9,
   "metadata": {},
   "outputs": [
    {
     "name": "stdout",
     "output_type": "stream",
     "text": [
      "Epoch 1/30\n",
      "93/92 [==============================] - 78s 838ms/step - loss: 1.9173 - acc: 0.4019 - val_loss: 1.2129 - val_acc: 0.5428\n",
      "Epoch 2/30\n",
      "93/92 [==============================] - 78s 841ms/step - loss: 1.2978 - acc: 0.4839 - val_loss: 1.1377 - val_acc: 0.5704\n",
      "Epoch 3/30\n",
      "93/92 [==============================] - 77s 826ms/step - loss: 1.1870 - acc: 0.5494 - val_loss: 1.0949 - val_acc: 0.5936\n",
      "Epoch 4/30\n",
      "93/92 [==============================] - 72s 774ms/step - loss: 1.1232 - acc: 0.5849 - val_loss: 1.0387 - val_acc: 0.6272\n",
      "Epoch 5/30\n",
      "93/92 [==============================] - 71s 766ms/step - loss: 1.0657 - acc: 0.6074 - val_loss: 0.9784 - val_acc: 0.6595\n",
      "Epoch 6/30\n",
      "93/92 [==============================] - 73s 781ms/step - loss: 1.0260 - acc: 0.6309 - val_loss: 0.9520 - val_acc: 0.6651\n",
      "Epoch 7/30\n",
      "93/92 [==============================] - 73s 781ms/step - loss: 0.9828 - acc: 0.6512 - val_loss: 1.0366 - val_acc: 0.6156\n",
      "Epoch 8/30\n",
      "93/92 [==============================] - 77s 827ms/step - loss: 0.9703 - acc: 0.6602 - val_loss: 0.9034 - val_acc: 0.6896\n",
      "Epoch 9/30\n",
      "93/92 [==============================] - 79s 846ms/step - loss: 0.9408 - acc: 0.6716 - val_loss: 0.8932 - val_acc: 0.6896\n",
      "Epoch 10/30\n",
      "93/92 [==============================] - 81s 869ms/step - loss: 0.9343 - acc: 0.6764 - val_loss: 0.8809 - val_acc: 0.6909\n",
      "Epoch 11/30\n",
      "93/92 [==============================] - 78s 837ms/step - loss: 0.9165 - acc: 0.6824 - val_loss: 0.8760 - val_acc: 0.6974\n",
      "Epoch 12/30\n",
      "93/92 [==============================] - 77s 829ms/step - loss: 0.8979 - acc: 0.6889 - val_loss: 0.8691 - val_acc: 0.6982\n",
      "Epoch 13/30\n",
      "93/92 [==============================] - 77s 825ms/step - loss: 0.8892 - acc: 0.6998 - val_loss: 1.0937 - val_acc: 0.5497\n",
      "Epoch 14/30\n",
      "93/92 [==============================] - 78s 841ms/step - loss: 0.8796 - acc: 0.6955 - val_loss: 0.8960 - val_acc: 0.6754\n",
      "Epoch 15/30\n",
      "93/92 [==============================] - 79s 854ms/step - loss: 0.8726 - acc: 0.7019 - val_loss: 0.8410 - val_acc: 0.7064\n",
      "Epoch 16/30\n",
      "93/92 [==============================] - 76s 820ms/step - loss: 0.8593 - acc: 0.7072 - val_loss: 0.8399 - val_acc: 0.7094\n",
      "Epoch 17/30\n",
      "93/92 [==============================] - 79s 850ms/step - loss: 0.8500 - acc: 0.7080 - val_loss: 0.8317 - val_acc: 0.7150\n",
      "Epoch 18/30\n",
      "93/92 [==============================] - 76s 822ms/step - loss: 0.8423 - acc: 0.7110 - val_loss: 0.9280 - val_acc: 0.6543\n",
      "Epoch 19/30\n",
      "93/92 [==============================] - 76s 818ms/step - loss: 0.8428 - acc: 0.7106 - val_loss: 0.8102 - val_acc: 0.7163\n",
      "Epoch 20/30\n",
      "93/92 [==============================] - 74s 799ms/step - loss: 0.8324 - acc: 0.7192 - val_loss: 0.8440 - val_acc: 0.7116\n",
      "Epoch 21/30\n",
      "93/92 [==============================] - 77s 823ms/step - loss: 0.8225 - acc: 0.7232 - val_loss: 0.7942 - val_acc: 0.7340\n",
      "Epoch 22/30\n",
      "93/92 [==============================] - 77s 825ms/step - loss: 0.8115 - acc: 0.7280 - val_loss: 0.8844 - val_acc: 0.6870\n",
      "Epoch 23/30\n",
      "93/92 [==============================] - 76s 814ms/step - loss: 0.8126 - acc: 0.7273 - val_loss: 0.7939 - val_acc: 0.7211\n",
      "Epoch 24/30\n",
      "93/92 [==============================] - 75s 802ms/step - loss: 0.8082 - acc: 0.7264 - val_loss: 0.8113 - val_acc: 0.7219\n",
      "Epoch 25/30\n",
      "93/92 [==============================] - 73s 786ms/step - loss: 0.7988 - acc: 0.7272 - val_loss: 0.7787 - val_acc: 0.7365\n",
      "Epoch 26/30\n",
      "93/92 [==============================] - 74s 794ms/step - loss: 0.7965 - acc: 0.7352 - val_loss: 0.7836 - val_acc: 0.7357\n",
      "Epoch 27/30\n",
      "93/92 [==============================] - 81s 873ms/step - loss: 0.7966 - acc: 0.7337 - val_loss: 0.8410 - val_acc: 0.7008\n",
      "Epoch 28/30\n",
      "93/92 [==============================] - 94s 1s/step - loss: 0.7900 - acc: 0.7344 - val_loss: 0.7950 - val_acc: 0.7279\n",
      "Epoch 29/30\n",
      "93/92 [==============================] - 81s 868ms/step - loss: 0.7877 - acc: 0.7339 - val_loss: 0.8348 - val_acc: 0.7081\n",
      "Epoch 30/30\n",
      "93/92 [==============================] - 74s 795ms/step - loss: 0.7835 - acc: 0.7337 - val_loss: 0.7828 - val_acc: 0.7266\n"
     ]
    }
   ],
   "source": [
    "# Compile the model\n",
    "model.compile(loss='categorical_crossentropy',\n",
    "              optimizer=optimizers.RMSprop(lr=1e-4),\n",
    "              metrics=['acc'])\n",
    "\n",
    "# Calculate class weight\n",
    "from collections import Counter\n",
    "counter = Counter(train_generator.classes)                          \n",
    "max_val = float(max(counter.values()))       \n",
    "class_weights = {class_id : max_val/num_images for class_id, num_images in counter.items()}                     \n",
    "\n",
    "# Train the model\n",
    "history = model.fit_generator(\n",
    "      train_generator,\n",
    "      steps_per_epoch=train_generator.samples/train_generator.batch_size ,\n",
    "      epochs=30,\n",
    "      validation_data=validation_generator,\n",
    "      validation_steps=validation_generator.samples/validation_generator.batch_size,\n",
    "      verbose=1)\n",
    " \n",
    "# Save the model\n",
    "model.save(model_fname)"
   ]
  },
  {
   "cell_type": "code",
   "execution_count": 40,
   "metadata": {},
   "outputs": [
    {
     "ename": "KeyError",
     "evalue": "'acc'",
     "output_type": "error",
     "traceback": [
      "\u001b[0;31m---------------------------------------------------------------------------\u001b[0m",
      "\u001b[0;31mKeyError\u001b[0m                                  Traceback (most recent call last)",
      "\u001b[0;32m<ipython-input-40-009b49b152a9>\u001b[0m in \u001b[0;36m<module>\u001b[0;34m()\u001b[0m\n\u001b[0;32m----> 1\u001b[0;31m \u001b[0macc\u001b[0m \u001b[0;34m=\u001b[0m \u001b[0mhistory\u001b[0m\u001b[0;34m.\u001b[0m\u001b[0mhistory\u001b[0m\u001b[0;34m[\u001b[0m\u001b[0;34m'acc'\u001b[0m\u001b[0;34m]\u001b[0m\u001b[0;34m\u001b[0m\u001b[0;34m\u001b[0m\u001b[0m\n\u001b[0m\u001b[1;32m      2\u001b[0m \u001b[0mval_acc\u001b[0m \u001b[0;34m=\u001b[0m \u001b[0mhistory\u001b[0m\u001b[0;34m.\u001b[0m\u001b[0mhistory\u001b[0m\u001b[0;34m[\u001b[0m\u001b[0;34m'val_acc'\u001b[0m\u001b[0;34m]\u001b[0m\u001b[0;34m\u001b[0m\u001b[0;34m\u001b[0m\u001b[0m\n\u001b[1;32m      3\u001b[0m \u001b[0mloss\u001b[0m \u001b[0;34m=\u001b[0m \u001b[0mhistory\u001b[0m\u001b[0;34m.\u001b[0m\u001b[0mhistory\u001b[0m\u001b[0;34m[\u001b[0m\u001b[0;34m'loss'\u001b[0m\u001b[0;34m]\u001b[0m\u001b[0;34m\u001b[0m\u001b[0;34m\u001b[0m\u001b[0m\n\u001b[1;32m      4\u001b[0m \u001b[0mval_loss\u001b[0m \u001b[0;34m=\u001b[0m \u001b[0mhistory\u001b[0m\u001b[0;34m.\u001b[0m\u001b[0mhistory\u001b[0m\u001b[0;34m[\u001b[0m\u001b[0;34m'val_loss'\u001b[0m\u001b[0;34m]\u001b[0m\u001b[0;34m\u001b[0m\u001b[0;34m\u001b[0m\u001b[0m\n\u001b[1;32m      5\u001b[0m \u001b[0;34m\u001b[0m\u001b[0m\n",
      "\u001b[0;31mKeyError\u001b[0m: 'acc'"
     ]
    }
   ],
   "source": [
    "acc = history.history['acc']\n",
    "val_acc = history.history['val_acc']\n",
    "loss = history.history['loss']\n",
    "val_loss = history.history['val_loss']\n",
    " \n",
    "epochs = range(len(acc))\n",
    " \n",
    "plt.plot(epochs, acc, 'b', label='Training acc')\n",
    "plt.plot(epochs, val_acc, 'r', label='Validation acc')\n",
    "plt.title('Training and validation accuracy')\n",
    "plt.legend()\n",
    " \n",
    "plt.figure()\n",
    " \n",
    "plt.plot(epochs, loss, 'b', label='Training loss')\n",
    "plt.plot(epochs, val_loss, 'r', label='Validation loss')\n",
    "plt.title('Training and validation loss')\n",
    "plt.legend()\n",
    " \n",
    "plt.show()"
   ]
  },
  {
   "cell_type": "code",
   "execution_count": null,
   "metadata": {},
   "outputs": [],
   "source": []
  }
 ],
 "metadata": {
  "kernelspec": {
   "display_name": "mafat_keras",
   "language": "python",
   "name": "mafat_keras"
  },
  "language_info": {
   "codemirror_mode": {
    "name": "ipython",
    "version": 3
   },
   "file_extension": ".py",
   "mimetype": "text/x-python",
   "name": "python",
   "nbconvert_exporter": "python",
   "pygments_lexer": "ipython3",
   "version": "3.6.7"
  }
 },
 "nbformat": 4,
 "nbformat_minor": 2
}
